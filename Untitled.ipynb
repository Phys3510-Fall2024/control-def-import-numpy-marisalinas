{
 "cells": [
  {
   "cell_type": "markdown",
   "id": "7fd64587-f0be-446a-88c4-37e06de516d6",
   "metadata": {},
   "source": [
    "## simple harmonic motion\n",
    "\n",
    "This fucntion will outpiut the position and velocity\n",
    "\n",
    "The important equations are:\n",
    "\n",
    "Potential Energy: $U= \\fract{1}{2}kx^2$\n",
    "Force: F=-kx=ma=mx**"
   ]
  },
  {
   "cell_type": "code",
   "execution_count": 18,
   "id": "64ee24e1-88e0-4522-b449-a5b56a9d8104",
   "metadata": {},
   "outputs": [],
   "source": [
    "#import math library\n",
    "import math\n",
    "#print(dir(math))\n",
    "\n",
    "#def harmonic motion\n",
    "def harmonic_motion(t, omega, x0, v0):\n",
    "    \"\"\"\n",
    "    t: time in seconds\n",
    "    omega : resonant freq (omega=math.sqrt(k/m))\n",
    "    x0 : init pos\n",
    "    v0 : init vel\n",
    "\n",
    "    x :poisiton\n",
    "    v :velocity \n",
    "    \"\"\"\n",
    "    x = x0 * math.cos(omega*time) + (v0/omega) * math.sin(omega*time)\n",
    "    v = -omega * (x0 * math.sin(omega*time)) + (v0 * math.cos(omega*time))\n",
    "    \n",
    "    return x, v"
   ]
  },
  {
   "cell_type": "code",
   "execution_count": 23,
   "id": "1d31e4ba-b748-413b-ba60-2c4341be001a",
   "metadata": {},
   "outputs": [
    {
     "data": {
      "text/plain": [
       "[-3.0999999999999996, -2.0000000000000004]"
      ]
     },
     "execution_count": 23,
     "metadata": {},
     "output_type": "execute_result"
    }
   ],
   "source": [
    "#testing function\n",
    "omega = 1 \n",
    "time = 1*math.pi/omega \n",
    "x0 = 3.1\n",
    "v0 = 2\n",
    "position, velocity = harmonic_motion(time, omega, x0, v0)\n",
    "[position, velocity]"
   ]
  },
  {
   "cell_type": "code",
   "execution_count": null,
   "id": "19795a57-eec3-4830-a555-ae0aa6901b16",
   "metadata": {},
   "outputs": [],
   "source": []
  }
 ],
 "metadata": {
  "kernelspec": {
   "display_name": "Python 3 (ipykernel)",
   "language": "python",
   "name": "python3"
  },
  "language_info": {
   "codemirror_mode": {
    "name": "ipython",
    "version": 3
   },
   "file_extension": ".py",
   "mimetype": "text/x-python",
   "name": "python",
   "nbconvert_exporter": "python",
   "pygments_lexer": "ipython3",
   "version": "3.9.19"
  }
 },
 "nbformat": 4,
 "nbformat_minor": 5
}
