{
 "cells": [
  {
   "cell_type": "markdown",
   "id": "7fd64587-f0be-446a-88c4-37e06de516d6",
   "metadata": {},
   "source": [
    "## simple harmonic motion\n",
    "\n",
    "This fucntion will outpiut the position and velocity\n",
    "\n",
    "The important equations are:\n",
    "\n",
    "Potential Energy: $U= \\fract{1}{2}kx^2$\n",
    "Force: F=-kx=ma=mx**"
   ]
  },
  {
   "cell_type": "code",
   "execution_count": 20,
   "id": "64ee24e1-88e0-4522-b449-a5b56a9d8104",
   "metadata": {},
   "outputs": [],
   "source": [
    "#import math library\n",
    "import math\n",
    "#print(dir(math))\n",
    "\n",
    "#def harmonic motion\n",
    "def harmonic_motion(t, omega, x0, v0):\n",
    "    \"\"\"\n",
    "    t: time in seconds\n",
    "    omega : resonant freq (omega=math.sqrt(k/m))\n",
    "    x0 : init pos\n",
    "    v0 : init vel\n",
    "\n",
    "    x :poisiton\n",
    "    v :velocity \n",
    "    \"\"\"\n",
    "    x = x0 * math.cos(omega*time) + (v0/omega) * math.sin(omega*time)\n",
    "    v = -omega * (x0 * math.sin(omega*time)) + (v0 * math.cos(omega*time))\n",
    "    \n",
    "    return x, v"
   ]
  },
  {
   "cell_type": "code",
   "execution_count": 2,
   "id": "1d31e4ba-b748-413b-ba60-2c4341be001a",
   "metadata": {},
   "outputs": [
    {
     "data": {
      "text/plain": [
       "[-3.0999999999999996, -2.0000000000000004]"
      ]
     },
     "execution_count": 2,
     "metadata": {},
     "output_type": "execute_result"
    }
   ],
   "source": [
    "#testing function\n",
    "omega = 1 \n",
    "time = 1*math.pi/omega \n",
    "x0 = 3.1\n",
    "v0 = 2\n",
    "position, velocity = harmonic_motion(time, omega, x0, v0)\n",
    "[position, velocity]"
   ]
  },
  {
   "cell_type": "code",
   "execution_count": 26,
   "id": "19795a57-eec3-4830-a555-ae0aa6901b16",
   "metadata": {},
   "outputs": [
    {
     "name": "stdout",
     "output_type": "stream",
     "text": [
      "Scalar (id_scalar):\n",
      "Inversion: Even\n",
      "Mirror Z: Even\n",
      "Mirror Y: Even\n",
      "Rotation X 180: Even\n",
      "\n",
      "Pseudo-Scalar (id_pseudo_scalar):\n",
      "Inversion: Odd\n",
      "Mirror Z: Even\n",
      "Mirror Y: Even\n",
      "Rotation X 180: Even\n",
      "\n",
      "Polar Vector (id_polar_vec):\n",
      "Inversion: Odd\n",
      "Mirror Z: Odd\n",
      "Mirror Y: Even\n",
      "Rotation X 180: Even\n",
      "\n",
      "Axial Vector (id_axial_vec):\n",
      "Inversion: Odd\n",
      "Mirror Z: Odd\n",
      "Mirror Y: Even\n",
      "Rotation X 180: Even\n"
     ]
    }
   ],
   "source": [
    "import numpy as np\n",
    "\n",
    "identity = np.array(     #from example\n",
    "         [[ 1, 0, 0]\n",
    "         ,[ 0, 1, 0]\n",
    "         ,[ 0, 0, 1]]\n",
    ")\n",
    "\n",
    "#scalar: np.dot(a, b) # dot product\n",
    "#pseudoscalar: np.dot(c, np.cross(a, b)) # scalar triple product\n",
    "#polar vector: c # no operation\n",
    "#axial (pseudo) vector np.cross(a, b) # cross product\n",
    "\n",
    "inversion = np.array(       #from assingment\n",
    "               [[-1,  0,  0]\n",
    "               ,[ 0, -1,  0]\n",
    "               ,[ 0,  0, -1]]\n",
    ")\n",
    "\n",
    "mirror_z = np.array(\n",
    "            [[1, 0, 0]\n",
    "            ,[0, 1, 0]\n",
    "            ,[0, 0, -1]]\n",
    ")\n",
    "\n",
    "mirror_y = np.array(\n",
    "            [[1, 0, 0]\n",
    "            ,[0, -1, 0]\n",
    "            ,[0, 0, 1]]\n",
    ")\n",
    "\n",
    "rotation_x_180 = np.array(\n",
    "            [[-1, 0, 0]\n",
    "            ,[0, 1, 0]\n",
    "            ,[0, 0, 1]]\n",
    ")\n",
    "\n",
    "a = np.array([1, 0, 0])\n",
    "b = np.array([0, 1, 0])\n",
    "c = np.array([0, 0, 1])\n",
    "\n",
    "# Define the objects\n",
    "id_scalar = np.dot(a, b)  # Dot product of a and b\n",
    "id_pseudo_scalar = np.dot(c, np.cross(a, b))  # Pseudo-scalar\n",
    "id_polar_vec = c  # Polar vector\n",
    "id_axial_vec = np.cross(a, b)  # Axial vector\n",
    "\n",
    "# Function to check if the object is even or odd under the given operation\n",
    "def check_even_odd(obj, operation, obj_type=\"vector\"):\n",
    "    transformed_obj = operation @ obj\n",
    "    if np.allclose(transformed_obj, obj):\n",
    "        return \"Even\"\n",
    "    elif np.allclose(transformed_obj, -obj):\n",
    "        return \"Odd\"\n",
    "    else:\n",
    "        return \"Neither (For scalars this is unexpected)\"\n",
    "\n",
    "# Check for id_scalar (scalar)\n",
    "def check_scalar(scalar):\n",
    "    if scalar == scalar:  # Scalars remain unchanged\n",
    "        return \"Even\"\n",
    "    else:\n",
    "        return \"Odd\"\n",
    "\n",
    "print(\"Scalar (id_scalar):\")\n",
    "print(\"Inversion:\", check_scalar(id_scalar))\n",
    "print(\"Mirror Z:\", check_scalar(id_scalar))\n",
    "print(\"Mirror Y:\", check_scalar(id_scalar))\n",
    "print(\"Rotation X 180:\", check_scalar(id_scalar))\n",
    "\n",
    "print(\"\\nPseudo-Scalar (id_pseudo_scalar):\")\n",
    "print(\"Inversion:\", \"Odd\" if id_pseudo_scalar != -id_pseudo_scalar else \"Even\")\n",
    "print(\"Mirror Z:\", check_scalar(id_pseudo_scalar))\n",
    "print(\"Mirror Y:\", check_scalar(id_pseudo_scalar))\n",
    "print(\"Rotation X 180:\", check_scalar(id_pseudo_scalar))\n",
    "\n",
    "# Check for polar vector\n",
    "print(\"\\nPolar Vector (id_polar_vec):\")\n",
    "print(\"Inversion:\", check_even_odd(id_polar_vec, inversion))\n",
    "print(\"Mirror Z:\", check_even_odd(id_polar_vec, mirror_z))\n",
    "print(\"Mirror Y:\", check_even_odd(id_polar_vec, mirror_y))\n",
    "print(\"Rotation X 180:\", check_even_odd(id_polar_vec, rotation_x_180))\n",
    "\n",
    "# Check for axial vector\n",
    "print(\"\\nAxial Vector (id_axial_vec):\")\n",
    "print(\"Inversion:\", check_even_odd(id_axial_vec, inversion))\n",
    "print(\"Mirror Z:\", check_even_odd(id_axial_vec, mirror_z))\n",
    "print(\"Mirror Y:\", check_even_odd(id_axial_vec, mirror_y))\n",
    "print(\"Rotation X 180:\", check_even_odd(id_axial_vec, rotation_x_180))"
   ]
  },
  {
   "cell_type": "markdown",
   "id": "b001d052-744b-4db3-927f-1eeb5e990928",
   "metadata": {},
   "source": [
    "| 1D object    | identity | inversion | mirror_z | mirror_y | rotation_x_180 |\n",
    "|--------------|----------|-----------|----------|----------|----------------|\n",
    "| scalar       | 1        |           |          |          |                |\n",
    "| pseudoscalar | 1        |           |          |          |                |\n",
    "| polar vector | 1        |           |          |          |                |\n",
    "| axial vector | 1        |           |          |          |                |"
   ]
  },
  {
   "cell_type": "code",
   "execution_count": null,
   "id": "674788d5-4c19-424e-81ee-5e1df70c00d8",
   "metadata": {},
   "outputs": [],
   "source": []
  }
 ],
 "metadata": {
  "kernelspec": {
   "display_name": "Python 3 (ipykernel)",
   "language": "python",
   "name": "python3"
  },
  "language_info": {
   "codemirror_mode": {
    "name": "ipython",
    "version": 3
   },
   "file_extension": ".py",
   "mimetype": "text/x-python",
   "name": "python",
   "nbconvert_exporter": "python",
   "pygments_lexer": "ipython3",
   "version": "3.9.19"
  }
 },
 "nbformat": 4,
 "nbformat_minor": 5
}
